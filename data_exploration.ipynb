{
 "cells": [
  {
   "cell_type": "code",
   "execution_count": 2,
   "metadata": {},
   "outputs": [],
   "source": [
    "import pandas as pd "
   ]
  },
  {
   "cell_type": "code",
   "execution_count": 3,
   "metadata": {},
   "outputs": [
    {
     "name": "stderr",
     "output_type": "stream",
     "text": [
      "C:\\Users\\asent\\AppData\\Local\\Temp\\ipykernel_15056\\284117112.py:1: DtypeWarning: Columns (22,23,24,26,27,28,29,30,31,32,33,38,43,44,46,77,78,79,80) have mixed types. Specify dtype option on import or set low_memory=False.\n",
      "  df = pd.read_csv('original_data/state_TX_2018.csv')\n"
     ]
    },
    {
     "data": {
      "text/html": [
       "<div>\n",
       "<style scoped>\n",
       "    .dataframe tbody tr th:only-of-type {\n",
       "        vertical-align: middle;\n",
       "    }\n",
       "\n",
       "    .dataframe tbody tr th {\n",
       "        vertical-align: top;\n",
       "    }\n",
       "\n",
       "    .dataframe thead th {\n",
       "        text-align: right;\n",
       "    }\n",
       "</style>\n",
       "<table border=\"1\" class=\"dataframe\">\n",
       "  <thead>\n",
       "    <tr style=\"text-align: right;\">\n",
       "      <th></th>\n",
       "      <th>activity_year</th>\n",
       "      <th>lei</th>\n",
       "      <th>derived_msa-md</th>\n",
       "      <th>state_code</th>\n",
       "      <th>county_code</th>\n",
       "      <th>census_tract</th>\n",
       "      <th>conforming_loan_limit</th>\n",
       "      <th>derived_loan_product_type</th>\n",
       "      <th>derived_dwelling_category</th>\n",
       "      <th>derived_ethnicity</th>\n",
       "      <th>...</th>\n",
       "      <th>denial_reason-2</th>\n",
       "      <th>denial_reason-3</th>\n",
       "      <th>denial_reason-4</th>\n",
       "      <th>tract_population</th>\n",
       "      <th>tract_minority_population_percent</th>\n",
       "      <th>ffiec_msa_md_median_family_income</th>\n",
       "      <th>tract_to_msa_income_percentage</th>\n",
       "      <th>tract_owner_occupied_units</th>\n",
       "      <th>tract_one_to_four_family_homes</th>\n",
       "      <th>tract_median_age_of_housing_units</th>\n",
       "    </tr>\n",
       "  </thead>\n",
       "  <tbody>\n",
       "    <tr>\n",
       "      <th>0</th>\n",
       "      <td>2018</td>\n",
       "      <td>KB1H1DSPRFMYMCUFXT09</td>\n",
       "      <td>11100</td>\n",
       "      <td>TX</td>\n",
       "      <td>48375.0</td>\n",
       "      <td>4.837501e+10</td>\n",
       "      <td>C</td>\n",
       "      <td>Conventional:Subordinate Lien</td>\n",
       "      <td>Single Family (1-4 Units):Site-Built</td>\n",
       "      <td>Ethnicity Not Available</td>\n",
       "      <td>...</td>\n",
       "      <td>NaN</td>\n",
       "      <td>NaN</td>\n",
       "      <td>NaN</td>\n",
       "      <td>3570</td>\n",
       "      <td>26.69</td>\n",
       "      <td>66800</td>\n",
       "      <td>90</td>\n",
       "      <td>959</td>\n",
       "      <td>1937</td>\n",
       "      <td>69</td>\n",
       "    </tr>\n",
       "    <tr>\n",
       "      <th>1</th>\n",
       "      <td>2018</td>\n",
       "      <td>KB1H1DSPRFMYMCUFXT09</td>\n",
       "      <td>99999</td>\n",
       "      <td>TX</td>\n",
       "      <td>48415.0</td>\n",
       "      <td>4.841595e+10</td>\n",
       "      <td>C</td>\n",
       "      <td>Conventional:Subordinate Lien</td>\n",
       "      <td>Single Family (1-4 Units):Site-Built</td>\n",
       "      <td>Hispanic or Latino</td>\n",
       "      <td>...</td>\n",
       "      <td>NaN</td>\n",
       "      <td>NaN</td>\n",
       "      <td>NaN</td>\n",
       "      <td>5044</td>\n",
       "      <td>48.43</td>\n",
       "      <td>56500</td>\n",
       "      <td>119</td>\n",
       "      <td>1375</td>\n",
       "      <td>2093</td>\n",
       "      <td>51</td>\n",
       "    </tr>\n",
       "    <tr>\n",
       "      <th>2</th>\n",
       "      <td>2018</td>\n",
       "      <td>KB1H1DSPRFMYMCUFXT09</td>\n",
       "      <td>12420</td>\n",
       "      <td>TX</td>\n",
       "      <td>48453.0</td>\n",
       "      <td>4.845300e+10</td>\n",
       "      <td>NC</td>\n",
       "      <td>Conventional:Subordinate Lien</td>\n",
       "      <td>Single Family (1-4 Units):Site-Built</td>\n",
       "      <td>Ethnicity Not Available</td>\n",
       "      <td>...</td>\n",
       "      <td>4.0</td>\n",
       "      <td>NaN</td>\n",
       "      <td>NaN</td>\n",
       "      <td>5769</td>\n",
       "      <td>32.97</td>\n",
       "      <td>86000</td>\n",
       "      <td>112</td>\n",
       "      <td>1173</td>\n",
       "      <td>1869</td>\n",
       "      <td>53</td>\n",
       "    </tr>\n",
       "    <tr>\n",
       "      <th>3</th>\n",
       "      <td>2018</td>\n",
       "      <td>KB1H1DSPRFMYMCUFXT09</td>\n",
       "      <td>26420</td>\n",
       "      <td>TX</td>\n",
       "      <td>48201.0</td>\n",
       "      <td>4.820154e+10</td>\n",
       "      <td>C</td>\n",
       "      <td>Conventional:Subordinate Lien</td>\n",
       "      <td>Single Family (1-4 Units):Site-Built</td>\n",
       "      <td>Hispanic or Latino</td>\n",
       "      <td>...</td>\n",
       "      <td>NaN</td>\n",
       "      <td>NaN</td>\n",
       "      <td>NaN</td>\n",
       "      <td>13963</td>\n",
       "      <td>72.61</td>\n",
       "      <td>75600</td>\n",
       "      <td>108</td>\n",
       "      <td>3168</td>\n",
       "      <td>3854</td>\n",
       "      <td>17</td>\n",
       "    </tr>\n",
       "    <tr>\n",
       "      <th>4</th>\n",
       "      <td>2018</td>\n",
       "      <td>KB1H1DSPRFMYMCUFXT09</td>\n",
       "      <td>19124</td>\n",
       "      <td>TX</td>\n",
       "      <td>48113.0</td>\n",
       "      <td>4.811302e+10</td>\n",
       "      <td>C</td>\n",
       "      <td>Conventional:Subordinate Lien</td>\n",
       "      <td>Single Family (1-4 Units):Site-Built</td>\n",
       "      <td>Not Hispanic or Latino</td>\n",
       "      <td>...</td>\n",
       "      <td>NaN</td>\n",
       "      <td>NaN</td>\n",
       "      <td>NaN</td>\n",
       "      <td>5769</td>\n",
       "      <td>67.60</td>\n",
       "      <td>77200</td>\n",
       "      <td>95</td>\n",
       "      <td>1187</td>\n",
       "      <td>1692</td>\n",
       "      <td>35</td>\n",
       "    </tr>\n",
       "  </tbody>\n",
       "</table>\n",
       "<p>5 rows × 99 columns</p>\n",
       "</div>"
      ],
      "text/plain": [
       "   activity_year                   lei  derived_msa-md state_code  \\\n",
       "0           2018  KB1H1DSPRFMYMCUFXT09           11100         TX   \n",
       "1           2018  KB1H1DSPRFMYMCUFXT09           99999         TX   \n",
       "2           2018  KB1H1DSPRFMYMCUFXT09           12420         TX   \n",
       "3           2018  KB1H1DSPRFMYMCUFXT09           26420         TX   \n",
       "4           2018  KB1H1DSPRFMYMCUFXT09           19124         TX   \n",
       "\n",
       "   county_code  census_tract conforming_loan_limit  \\\n",
       "0      48375.0  4.837501e+10                     C   \n",
       "1      48415.0  4.841595e+10                     C   \n",
       "2      48453.0  4.845300e+10                    NC   \n",
       "3      48201.0  4.820154e+10                     C   \n",
       "4      48113.0  4.811302e+10                     C   \n",
       "\n",
       "       derived_loan_product_type             derived_dwelling_category  \\\n",
       "0  Conventional:Subordinate Lien  Single Family (1-4 Units):Site-Built   \n",
       "1  Conventional:Subordinate Lien  Single Family (1-4 Units):Site-Built   \n",
       "2  Conventional:Subordinate Lien  Single Family (1-4 Units):Site-Built   \n",
       "3  Conventional:Subordinate Lien  Single Family (1-4 Units):Site-Built   \n",
       "4  Conventional:Subordinate Lien  Single Family (1-4 Units):Site-Built   \n",
       "\n",
       "         derived_ethnicity  ... denial_reason-2 denial_reason-3  \\\n",
       "0  Ethnicity Not Available  ...             NaN             NaN   \n",
       "1       Hispanic or Latino  ...             NaN             NaN   \n",
       "2  Ethnicity Not Available  ...             4.0             NaN   \n",
       "3       Hispanic or Latino  ...             NaN             NaN   \n",
       "4   Not Hispanic or Latino  ...             NaN             NaN   \n",
       "\n",
       "   denial_reason-4  tract_population  tract_minority_population_percent  \\\n",
       "0              NaN              3570                              26.69   \n",
       "1              NaN              5044                              48.43   \n",
       "2              NaN              5769                              32.97   \n",
       "3              NaN             13963                              72.61   \n",
       "4              NaN              5769                              67.60   \n",
       "\n",
       "   ffiec_msa_md_median_family_income  tract_to_msa_income_percentage  \\\n",
       "0                              66800                              90   \n",
       "1                              56500                             119   \n",
       "2                              86000                             112   \n",
       "3                              75600                             108   \n",
       "4                              77200                              95   \n",
       "\n",
       "   tract_owner_occupied_units  tract_one_to_four_family_homes  \\\n",
       "0                         959                            1937   \n",
       "1                        1375                            2093   \n",
       "2                        1173                            1869   \n",
       "3                        3168                            3854   \n",
       "4                        1187                            1692   \n",
       "\n",
       "   tract_median_age_of_housing_units  \n",
       "0                                 69  \n",
       "1                                 51  \n",
       "2                                 53  \n",
       "3                                 17  \n",
       "4                                 35  \n",
       "\n",
       "[5 rows x 99 columns]"
      ]
     },
     "execution_count": 3,
     "metadata": {},
     "output_type": "execute_result"
    }
   ],
   "source": [
    "df = pd.read_csv('original_data/state_TX_2018.csv')\n",
    "df.head()"
   ]
  },
  {
   "cell_type": "code",
   "execution_count": 8,
   "metadata": {},
   "outputs": [
    {
     "data": {
      "text/plain": [
       "conforming_loan_limit\n",
       "C     1112955\n",
       "NC      43191\n",
       "Name: count, dtype: int64"
      ]
     },
     "execution_count": 8,
     "metadata": {},
     "output_type": "execute_result"
    }
   ],
   "source": [
    "df['conforming_loan_limit'].value_counts()"
   ]
  },
  {
   "cell_type": "code",
   "execution_count": 6,
   "metadata": {},
   "outputs": [
    {
     "name": "stdout",
     "output_type": "stream",
     "text": [
      "['activity_year', 'lei', 'derived_msa-md', 'state_code', 'county_code', 'census_tract', 'conforming_loan_limit', 'derived_loan_product_type', 'derived_dwelling_category', 'derived_ethnicity', 'derived_race', 'derived_sex', 'action_taken', 'purchaser_type', 'preapproval', 'loan_type', 'loan_purpose', 'lien_status', 'reverse_mortgage', 'open-end_line_of_credit', 'business_or_commercial_purpose', 'loan_amount', 'loan_to_value_ratio', 'interest_rate', 'rate_spread', 'hoepa_status', 'total_loan_costs', 'total_points_and_fees', 'origination_charges', 'discount_points', 'lender_credits', 'loan_term', 'prepayment_penalty_term', 'intro_rate_period', 'negative_amortization', 'interest_only_payment', 'balloon_payment', 'other_nonamortizing_features', 'property_value', 'construction_method', 'occupancy_type', 'manufactured_home_secured_property_type', 'manufactured_home_land_property_interest', 'total_units', 'multifamily_affordable_units', 'income', 'debt_to_income_ratio', 'applicant_credit_score_type', 'co-applicant_credit_score_type', 'applicant_ethnicity-1', 'applicant_ethnicity-2', 'applicant_ethnicity-3', 'applicant_ethnicity-4', 'applicant_ethnicity-5', 'co-applicant_ethnicity-1', 'co-applicant_ethnicity-2', 'co-applicant_ethnicity-3', 'co-applicant_ethnicity-4', 'co-applicant_ethnicity-5', 'applicant_ethnicity_observed', 'co-applicant_ethnicity_observed', 'applicant_race-1', 'applicant_race-2', 'applicant_race-3', 'applicant_race-4', 'applicant_race-5', 'co-applicant_race-1', 'co-applicant_race-2', 'co-applicant_race-3', 'co-applicant_race-4', 'co-applicant_race-5', 'applicant_race_observed', 'co-applicant_race_observed', 'applicant_sex', 'co-applicant_sex', 'applicant_sex_observed', 'co-applicant_sex_observed', 'applicant_age', 'co-applicant_age', 'applicant_age_above_62', 'co-applicant_age_above_62', 'submission_of_application', 'initially_payable_to_institution', 'aus-1', 'aus-2', 'aus-3', 'aus-4', 'aus-5', 'denial_reason-1', 'denial_reason-2', 'denial_reason-3', 'denial_reason-4', 'tract_population', 'tract_minority_population_percent', 'ffiec_msa_md_median_family_income', 'tract_to_msa_income_percentage', 'tract_owner_occupied_units', 'tract_one_to_four_family_homes', 'tract_median_age_of_housing_units']\n"
     ]
    }
   ],
   "source": [
    "print(df.columns.to_list())"
   ]
  },
  {
   "cell_type": "code",
   "execution_count": 11,
   "metadata": {},
   "outputs": [
    {
     "data": {
      "text/plain": [
       "1159408"
      ]
     },
     "execution_count": 11,
     "metadata": {},
     "output_type": "execute_result"
    }
   ],
   "source": [
    "len(df)"
   ]
  },
  {
   "cell_type": "code",
   "execution_count": 13,
   "metadata": {},
   "outputs": [
    {
     "data": {
      "text/plain": [
       "denial_reason-1\n",
       "10      952115\n",
       "3        65334\n",
       "1        51852\n",
       "1111     21260\n",
       "4        20292\n",
       "9        17468\n",
       "7        16787\n",
       "6         8130\n",
       "5         3603\n",
       "2         2520\n",
       "8           47\n",
       "Name: count, dtype: int64"
      ]
     },
     "execution_count": 13,
     "metadata": {},
     "output_type": "execute_result"
    }
   ],
   "source": [
    "df[\"denial_reason-1\"].value_counts()"
   ]
  },
  {
   "cell_type": "code",
   "execution_count": null,
   "metadata": {},
   "outputs": [],
   "source": [
    "columns_to_remove = [\n",
    "  'lei', #A financial institution’s Legal Entity Identifier\n",
    "  'state_code', \n",
    "  'county_code', \n",
    "  'census_tract', # small geographic subdivision used by the United States Census Bureau\n",
    "  'conforming_loan_limit',\n",
    "]\n",
    "columns_to_keep = [\n",
    "  'activity_year',\n",
    "  'derived_msa-md',\n",
    "  'derived_loan_product_type',#Derived loan product type from Loan Type and Lien Status fields for easier querying of specific records\n",
    "  'derived_dwelling_category',#Derived dwelling type from Construction Method and Total Units fields for easier querying of specific records\n",
    "  'derived_ethnicity',\n",
    "  'derived_race',\n",
    "  'derived_sex',\n",
    "  'action_taken',\n",
    "  'purchaser_type',\n",
    "  'preapproval', #Whether the covered loan or application involved a request for a preapproval of a home purchase loan under a preapproval program : preapproval requested or not requested\n",
    "  'loan_type', #  The type of covered loan or application\n",
    "  'loan_purpose',#  The purpose of covered loan or application\n",
    "  'lien_status', #Lien status of the property securing the covered loan, or in the case of an application, proposed to secure the covered loan\n",
    "  'reverse_mortgage', # Whether the covered loan or application is for a reverse mortgage : A reverse mortgage is a loan for older homeowners that lets them borrow money against the value of their home without having to sell it or make monthly payments\n",
    "  'open-end_line_of_credit', #Whether the covered loan or application is for an open-end line of credit\n",
    "  'business_or_commercial_purpose', #Whether the covered loan or application is primarily for a business or commercial\n",
    "  'loan_amount',# The amount of the covered loan, or the amount applied for\n",
    "  'loan_to_value_ratio',# The ratio of the total amount of debt secured by the property to the value of the property relied on in making the credit decision\n",
    "  'interest_rate',\n",
    "  'rate_spread',\n",
    "  'hoepa_status',# Whether the covered loan is a high-cost mortgage\n",
    "  'total_loan_costs',\n",
    "  'total_points_and_fees',\n",
    "  'origination_charges',# to remove ? The total of all itemized amounts, in dollars, that are designated borrower-paid at or before closing\n",
    "  'discount_points', # The points paid, in dollars, to the creditor to reduce the interest rate\n",
    "  'lender_credits', #The amount, in dollars, of lender credits ce sont des réductions des frais de clôture qu'un prêteur accorde à un emprunteur lors de la souscription d'un prêt hypothécaire.\n",
    "  'loan_term', # The number of months after which the legal obligation will mature or terminate, or would have matured or terminated\n",
    "  'prepayment_penalty_term', #The term, in months, of any prepayment penalty\n",
    "  'intro_rate_period', # The number of months, or proposed number of months in the case of an application, until the first date the interest rate may change after closing or account opening\n",
    "  'negative_amortization', # Whether the contractual terms include, or would have included, a term that would cause the covered loan to be a negative amortization loan\n",
    "  'interest_only_payment',# Whether the contractual terms include, or would have included, interest-only payments\n",
    "  'balloon_payment', # to remove Whether the contractual terms include, or would have included, a balloon payment\n",
    "  'other_nonamortizing_features', #to remove\n",
    "  'property_value',# The value of the property securing the covered loan or, in the case of an application, proposed to secure the covered loan, relied on in making the credit decision\n",
    "  'construction_method', #to remove Construction method for the dwelling\n",
    "  'occupancy_type',# Occupancy type for the dwelling : Owner-occupied or Second- or investment\n",
    "  'manufactured_home_secured_property_type',# to remove Whether the covered loan or application is, or would have been, secured by a manufactured home and land, or by a manufactured home and not land\n",
    "  'manufactured_home_land_property_interest',# The applicant’s or borrower’s land property interest in the land on which a manufactured home is, or will be, located\n",
    "  'total_units', #The number of individual dwelling units related to the property securing the covered loan or, in the case of an application, proposed to secure the covered loan\n",
    "  'multifamily_affordable_units',# Reported values as a percentage, rounded to the nearest whole number, of the value reported for Total Units\n",
    "  'income', # The gross annual income, in thousands of dollars, relied on in making the credit decision, or if a credit decision was not made, the gross annual income relied on in processing the application\n",
    "  'debt_to_income_ratio',# The ratio, as a percentage, of the applicant’s or borrower’s total monthly debt to the total monthly income relied on in making the credit decision\n",
    "  'applicant_credit_score_type', # to remove The name and version of the credit scoring model used to generate the credit score, or scores, relied on in making the credit decision\n",
    "  'co-applicant_credit_score_type', \n",
    "  # to remove because we have the same info with derived field\n",
    "  'applicant_ethnicity-1', 'applicant_ethnicity-2', 'applicant_ethnicity-3', 'applicant_ethnicity-4', 'applicant_ethnicity-5', 'co-applicant_ethnicity-1', 'co-applicant_ethnicity-2', 'co-applicant_ethnicity-3', 'co-applicant_ethnicity-4', 'co-applicant_ethnicity-5', 'applicant_ethnicity_observed', 'co-applicant_ethnicity_observed', 'applicant_race-1', 'applicant_race-2', 'applicant_race-3', 'applicant_race-4', 'applicant_race-5', 'co-applicant_race-1', 'co-applicant_race-2', 'co-applicant_race-3', 'co-applicant_race-4', 'co-applicant_race-5', 'applicant_race_observed', 'co-applicant_race_observed', 'applicant_sex', 'co-applicant_sex', 'applicant_sex_observed', 'co-applicant_sex_observed',\n",
    "  \n",
    "  'applicant_age', 'co-applicant_age', 'applicant_age_above_62', 'co-applicant_age_above_62',\n",
    "  \n",
    "  'submission_of_application',#Whether the applicant or borrower submitted the application directly to the financial institution\n",
    "  'initially_payable_to_institution',# Whether the obligation arising from the covered loan was, or, in the case of an application, would have been, initially payable to the financial institution\n",
    "  \n",
    "  #The automated underwriting system(s) (AUS) used by the financial institution to evaluate the application\n",
    "  'aus-1', 'aus-2', 'aus-3', 'aus-4', 'aus-5',\n",
    "  \n",
    "  #denial reason Values:\n",
    "# 1 - Debt-to-income ratio\n",
    "# 2 - Employment history\n",
    "# 3 - Credit history\n",
    "# 4 - Collateral\n",
    "# 5 - Insufficient cash (downpayment, closing costs)\n",
    "# 6 - Unverifiable information\n",
    "# 7 - Credit application incomplete\n",
    "# 8 - Mortgage insurance denied\n",
    "# 9 - Other\n",
    "  'denial_reason-1', 'denial_reason-2', 'denial_reason-3', 'denial_reason-4', \n",
    "  \n",
    "  # tract fields\n",
    "  'tract_population', 'tract_minority_population_percent', 'ffiec_msa_md_median_family_income', 'tract_to_msa_income_percentage', 'tract_owner_occupied_units', 'tract_one_to_four_family_homes', 'tract_median_age_of_housing_units']\n",
    "]"
   ]
  },
  {
   "cell_type": "code",
   "execution_count": 9,
   "metadata": {},
   "outputs": [
    {
     "data": {
      "text/plain": [
       "28"
      ]
     },
     "execution_count": 9,
     "metadata": {},
     "output_type": "execute_result"
    }
   ],
   "source": [
    " d = [ 'applicant_ethnicity-1', 'applicant_ethnicity-2', 'applicant_ethnicity-3', 'applicant_ethnicity-4', 'applicant_ethnicity-5', 'co-applicant_ethnicity-1', 'co-applicant_ethnicity-2', 'co-applicant_ethnicity-3', 'co-applicant_ethnicity-4', 'co-applicant_ethnicity-5', 'applicant_ethnicity_observed', 'co-applicant_ethnicity_observed', 'applicant_race-1', 'applicant_race-2', 'applicant_race-3', 'applicant_race-4', 'applicant_race-5', 'co-applicant_race-1', 'co-applicant_race-2', 'co-applicant_race-3', 'co-applicant_race-4', 'co-applicant_race-5', 'applicant_race_observed', 'co-applicant_race_observed', 'applicant_sex', 'co-applicant_sex', 'applicant_sex_observed', 'co-applicant_sex_observed']\n",
    " len(d)"
   ]
  },
  {
   "cell_type": "markdown",
   "metadata": {},
   "source": [
    "## Interest"
   ]
  },
  {
   "cell_type": "code",
   "execution_count": 16,
   "metadata": {},
   "outputs": [],
   "source": [
    "def get_interest(df,name):\n",
    "  # Convertir les valeurs de la colonne 'interest_rate' en type numérique\n",
    "  df['interest_rate'] = pd.to_numeric(df['interest_rate'], errors='coerce')\n",
    "\n",
    "  # Remplacer les NaN par une valeur par défaut ou supprimer les lignes contenant des NaN\n",
    "  df['interest_rate'] = df['interest_rate'].fillna(0)  # Option : remplacer par 0\n",
    "\n",
    "  # Arrondir les valeurs et les convertir en entiers\n",
    "  df['interest_rate'] = df['interest_rate'].mul(2).round().div(2)\n",
    "\n",
    "  # Afficher les occurrences\n",
    "  df['interest_rate'].value_counts().to_csv(name+'.csv')\n",
    "\n",
    "# df['interest_rate'].mul(2).round().div(2).value_counts()\n",
    "# .to_csv('interest_rate.csv')"
   ]
  },
  {
   "cell_type": "code",
   "execution_count": 17,
   "metadata": {},
   "outputs": [],
   "source": [
    "get_interest(df_2023,'interest_rate_2023')\n",
    "get_interest(df_2021,'interest_rate_2021')"
   ]
  },
  {
   "cell_type": "code",
   "execution_count": 13,
   "metadata": {},
   "outputs": [],
   "source": [
    "get_interest(df_2018,'interest_rate_2018')\n"
   ]
  },
  {
   "cell_type": "code",
   "execution_count": 5,
   "metadata": {},
   "outputs": [
    {
     "data": {
      "text/plain": [
       "derived_race\n",
       "White                                        387064\n",
       "Race Not Available                           361323\n",
       "Asian                                        123925\n",
       "Black or African American                     34678\n",
       "Joint                                         25101\n",
       "American Indian or Alaska Native               7311\n",
       "Native Hawaiian or Other Pacific Islander      3670\n",
       "2 or more minority races                       2550\n",
       "Free Form Text Only                             493\n",
       "Name: count, dtype: int64"
      ]
     },
     "execution_count": 5,
     "metadata": {},
     "output_type": "execute_result"
    }
   ],
   "source": [
    "df['derived_race'].value_counts()"
   ]
  },
  {
   "cell_type": "code",
   "execution_count": 7,
   "metadata": {},
   "outputs": [
    {
     "name": "stdout",
     "output_type": "stream",
     "text": [
      "derived_race  2 or more minority races  American Indian or Alaska Native  \\\n",
      "action_taken                                                               \n",
      "1                               105500                            305500   \n",
      "2                                 6300                             20600   \n",
      "3                                77700                            219200   \n",
      "4                                40700                            115500   \n",
      "5                                20700                             62500   \n",
      "6                                 2500                              5000   \n",
      "7                                  300                               900   \n",
      "8                                 1300                              1900   \n",
      "\n",
      "derived_race    Asian  Black or African American  Free Form Text Only  \\\n",
      "action_taken                                                            \n",
      "1             6873600                    1581400                20500   \n",
      "2              375500                     111800                  900   \n",
      "3             2220100                     918800                21200   \n",
      "4             2046900                     594900                 4800   \n",
      "5              613100                     205100                 1800   \n",
      "6              185900                      33800                    0   \n",
      "7               12100                       6000                    0   \n",
      "8               65300                      16000                  100   \n",
      "\n",
      "derived_race    Joint  Native Hawaiian or Other Pacific Islander  \\\n",
      "action_taken                                                       \n",
      "1             1555600                                     162000   \n",
      "2               60300                                      11500   \n",
      "3              381700                                     109700   \n",
      "4              364600                                      52000   \n",
      "5               97800                                      28400   \n",
      "6               30200                                       1900   \n",
      "7                2200                                        300   \n",
      "8               17700                                       1200   \n",
      "\n",
      "derived_race  Race Not Available     White  \n",
      "action_taken                                \n",
      "1                       10601300  21719700  \n",
      "2                         839700   1298900  \n",
      "3                        4410100   7361500  \n",
      "4                        3506900   5769700  \n",
      "5                        1403700   1978400  \n",
      "6                       15255700    396000  \n",
      "7                          19000     30200  \n",
      "8                          95900    152000  \n"
     ]
    }
   ],
   "source": [
    "distribution = pd.crosstab(df['action_taken'], df['derived_race']) * 100\n",
    "\n",
    "print(distribution)"
   ]
  },
  {
   "cell_type": "code",
   "execution_count": null,
   "metadata": {},
   "outputs": [],
   "source": []
  }
 ],
 "metadata": {
  "kernelspec": {
   "display_name": "base",
   "language": "python",
   "name": "python3"
  },
  "language_info": {
   "codemirror_mode": {
    "name": "ipython",
    "version": 3
   },
   "file_extension": ".py",
   "mimetype": "text/x-python",
   "name": "python",
   "nbconvert_exporter": "python",
   "pygments_lexer": "ipython3",
   "version": "3.11.7"
  }
 },
 "nbformat": 4,
 "nbformat_minor": 2
}
